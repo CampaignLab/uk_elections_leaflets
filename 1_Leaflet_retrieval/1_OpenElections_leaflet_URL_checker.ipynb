{
 "cells": [
  {
   "cell_type": "code",
   "execution_count": 2,
   "id": "72946f13-6ba9-4601-9d56-12b207baf8e7",
   "metadata": {},
   "outputs": [],
   "source": [
    "import requests\n",
    "import numpy as np\n",
    "import pandas as pd\n",
    "from tqdm.notebook import tqdm\n",
    "\n",
    "def check_url(base_url, code):\n",
    "    url = f\"{base_url}{code}/\"\n",
    "    try:\n",
    "        response = requests.get(url, allow_redirects=True)\n",
    "        if response.status_code == 404:\n",
    "            return np.nan  # Return NaN for 404 errors\n",
    "        elif response.url != url:\n",
    "            new_code = response.url.split('/')[-2]  # Extract the code from the redirected URL\n",
    "            return int(new_code)  # Return the new code if redirected\n",
    "        else:\n",
    "            return code  # Return the original code if found and not redirected\n",
    "    except requests.RequestException as e:\n",
    "        print(f\"Error checking URL {url}: {e}\")\n",
    "        return None  # Return None in case of a request exception"
   ]
  },
  {
   "cell_type": "code",
   "execution_count": 3,
   "id": "69927a43-ba65-4490-963a-6847cac3c122",
   "metadata": {},
   "outputs": [
    {
     "data": {
      "application/vnd.jupyter.widget-view+json": {
       "model_id": "b6f0f0f2c3634ab6ab6e765d75de9100",
       "version_major": 2,
       "version_minor": 0
      },
      "text/plain": [
       "Checking URLs:   0%|          | 0/900 [00:00<?, ?it/s]"
      ]
     },
     "metadata": {},
     "output_type": "display_data"
    },
    {
     "data": {
      "text/html": [
       "<div>\n",
       "<style scoped>\n",
       "    .dataframe tbody tr th:only-of-type {\n",
       "        vertical-align: middle;\n",
       "    }\n",
       "\n",
       "    .dataframe tbody tr th {\n",
       "        vertical-align: top;\n",
       "    }\n",
       "\n",
       "    .dataframe thead th {\n",
       "        text-align: right;\n",
       "    }\n",
       "</style>\n",
       "<table border=\"1\" class=\"dataframe\">\n",
       "  <thead>\n",
       "    <tr style=\"text-align: right;\">\n",
       "      <th></th>\n",
       "      <th>Number</th>\n",
       "      <th>URL</th>\n",
       "    </tr>\n",
       "  </thead>\n",
       "  <tbody>\n",
       "    <tr>\n",
       "      <th>0</th>\n",
       "      <td>2770</td>\n",
       "      <td>https://www.openelections.co.uk/leaflets/2770/</td>\n",
       "    </tr>\n",
       "    <tr>\n",
       "      <th>1</th>\n",
       "      <td>27711</td>\n",
       "      <td>https://www.openelections.co.uk/leaflets/27711/</td>\n",
       "    </tr>\n",
       "    <tr>\n",
       "      <th>2</th>\n",
       "      <td>27720</td>\n",
       "      <td>https://www.openelections.co.uk/leaflets/27720/</td>\n",
       "    </tr>\n",
       "    <tr>\n",
       "      <th>3</th>\n",
       "      <td>27731</td>\n",
       "      <td>https://www.openelections.co.uk/leaflets/27731/</td>\n",
       "    </tr>\n",
       "    <tr>\n",
       "      <th>4</th>\n",
       "      <td>2774</td>\n",
       "      <td>https://www.openelections.co.uk/leaflets/2774/</td>\n",
       "    </tr>\n",
       "  </tbody>\n",
       "</table>\n",
       "</div>"
      ],
      "text/plain": [
       "   Number                                              URL\n",
       "0    2770   https://www.openelections.co.uk/leaflets/2770/\n",
       "1   27711  https://www.openelections.co.uk/leaflets/27711/\n",
       "2   27720  https://www.openelections.co.uk/leaflets/27720/\n",
       "3   27731  https://www.openelections.co.uk/leaflets/27731/\n",
       "4    2774   https://www.openelections.co.uk/leaflets/2774/"
      ]
     },
     "execution_count": 3,
     "metadata": {},
     "output_type": "execute_result"
    }
   ],
   "source": [
    "# Define the base URL and the range of codes\n",
    "base_url = \"https://www.openelections.co.uk/leaflets/\"\n",
    "start_range = 2770\n",
    "end_range = 40000\n",
    "\n",
    "# Load existing data if available\n",
    "try:\n",
    "    existing_df = pd.read_csv('valid_urls.csv')\n",
    "    last_checked = existing_df['Number'].max()\n",
    "except (FileNotFoundError, pd.errors.EmptyDataError):\n",
    "    existing_df = pd.DataFrame(columns=['Number', 'URL'])\n",
    "    last_checked = start_range - 1\n",
    "    \n",
    "# Iterate over the range and collect valid URLs\n",
    "valid_urls = existing_df.values.tolist()\n",
    "valid_count = len(valid_urls)\n",
    "backup_interval = 100\n",
    "\n",
    "# Create a tqdm iterator and store it in a variable\n",
    "pbar = tqdm(range(last_checked + 1, end_range + 1), desc=\"Checking URLs\", total=end_range - last_checked)\n",
    "\n",
    "for code in pbar:\n",
    "    result = check_url(base_url, code)\n",
    "    if result is not np.nan and result is not None:\n",
    "        valid_url = f\"{base_url}{result}/\"\n",
    "        valid_urls.append([result, valid_url])\n",
    "        valid_count += 1\n",
    "\n",
    "    # Backup data every 100 URLs\n",
    "    if code % backup_interval == 0:\n",
    "        df_backup = pd.DataFrame(valid_urls, columns=['Number', 'URL'])\n",
    "        df_backup.to_csv('valid_urls.csv', index=False)\n",
    "\n",
    "    # Update tqdm bar with the number of valid URLs found\n",
    "    pbar.set_description(f\"Checking URLs (Valid: {valid_count})\")\n",
    "\n",
    "# Save the final results\n",
    "df_final = pd.DataFrame(valid_urls, columns=['Number', 'URL'])\n",
    "df_final.to_csv('valid_urls.csv', index=False)\n",
    "\n",
    "# Display the first few rows of the DataFrame\n",
    "df_final.head()"
   ]
  },
  {
   "cell_type": "code",
   "execution_count": 4,
   "id": "c38b6517-d93b-452a-a72f-14c6a66bdcb3",
   "metadata": {},
   "outputs": [
    {
     "data": {
      "text/plain": [
       "9614"
      ]
     },
     "execution_count": 4,
     "metadata": {},
     "output_type": "execute_result"
    }
   ],
   "source": [
    "len(df_final)"
   ]
  },
  {
   "cell_type": "code",
   "execution_count": null,
   "id": "332fa0f8-f494-4a43-b122-2357d29dec3d",
   "metadata": {},
   "outputs": [],
   "source": []
  }
 ],
 "metadata": {
  "kernelspec": {
   "display_name": "Python 3 (ipykernel)",
   "language": "python",
   "name": "python3"
  },
  "language_info": {
   "codemirror_mode": {
    "name": "ipython",
    "version": 3
   },
   "file_extension": ".py",
   "mimetype": "text/x-python",
   "name": "python",
   "nbconvert_exporter": "python",
   "pygments_lexer": "ipython3",
   "version": "3.11.6"
  }
 },
 "nbformat": 4,
 "nbformat_minor": 5
}
